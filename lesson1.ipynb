{
 "cells": [
  {
   "cell_type": "code",
   "execution_count": 3,
   "metadata": {},
   "outputs": [
    {
     "name": "stdout",
     "output_type": "stream",
     "text": [
      "True\n"
     ]
    }
   ],
   "source": [
    "a = 1\n",
    "b = 2\n",
    "c = a < b\n",
    "print(c)"
   ]
  },
  {
   "cell_type": "code",
   "execution_count": 6,
   "metadata": {},
   "outputs": [
    {
     "name": "stdout",
     "output_type": "stream",
     "text": [
      "9\n",
      "False\n"
     ]
    }
   ],
   "source": [
    "n = int(input())\n",
    "isEven = n % 2 == 0\n",
    "print(isEven)"
   ]
  },
  {
   "cell_type": "code",
   "execution_count": 9,
   "metadata": {},
   "outputs": [
    {
     "name": "stdout",
     "output_type": "stream",
     "text": [
      "1\n",
      "2\n",
      "-1\n",
      "5\n",
      "True\n"
     ]
    }
   ],
   "source": [
    "start1 = int(input())\n",
    "finish1 = int(input())\n",
    "start2 = int(input())\n",
    "finish2 = int(input())\n",
    "isS1in2 = start2 <= start1 <= finish2\n",
    "isF1in2 = start2 <= finish1 <= finish2\n",
    "isS2in1 = start1 <= start2 <= finish1\n",
    "isF2in1 = start1 <= finish2 <= finish1\n",
    "answer = isS1in2 or isF1in2 or isS2in1 or isF2in1\n",
    "print(answer)"
   ]
  },
  {
   "cell_type": "code",
   "execution_count": 12,
   "metadata": {},
   "outputs": [
    {
     "name": "stdout",
     "output_type": "stream",
     "text": [
      "1\n",
      "2\n",
      "1\n",
      "3\n",
      "True\n"
     ]
    }
   ],
   "source": [
    "start1 = int(input())\n",
    "finish1 = int(input())\n",
    "start2 = int(input())\n",
    "finish2 = int(input())\n",
    "answer = start1 <= finish2 and start2 <= finish1\n",
    "print(answer)"
   ]
  },
  {
   "cell_type": "code",
   "execution_count": null,
   "metadata": {},
   "outputs": [],
   "source": []
  }
 ],
 "metadata": {
  "kernelspec": {
   "display_name": "Python 3",
   "language": "python",
   "name": "python3"
  },
  "language_info": {
   "codemirror_mode": {
    "name": "ipython",
    "version": 3
   },
   "file_extension": ".py",
   "mimetype": "text/x-python",
   "name": "python",
   "nbconvert_exporter": "python",
   "pygments_lexer": "ipython3",
   "version": "3.8.3"
  }
 },
 "nbformat": 4,
 "nbformat_minor": 4
}
