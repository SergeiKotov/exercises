{
 "cells": [
  {
   "cell_type": "code",
   "execution_count": null,
   "metadata": {},
   "outputs": [],
   "source": [
    "# elif"
   ]
  },
  {
   "cell_type": "code",
   "execution_count": 4,
   "metadata": {},
   "outputs": [
    {
     "name": "stdout",
     "output_type": "stream",
     "text": [
      "1\n",
      "-1\n",
      "4\n"
     ]
    }
   ],
   "source": [
    "# Пример1:\n",
    "# Проверка на принадлежность точки(х,у) к одной из четырех координатных четвертей\n",
    "# x>0,y>0 - 1\n",
    "# x<0,y>0 - 2\n",
    "# x<0,y<0 - 3\n",
    "# x>0,y<0 - 4\n",
    "\n",
    "# запись вложеных условий с использованием полной конструкции if else\n",
    "x = int(input())\n",
    "y = int(input())\n",
    "if x > 0:\n",
    "    if y > 0:\n",
    "        print(1) # x>0,y>0 - 1\n",
    "    else:\n",
    "        print(4) # x>0,y<0 - 4\n",
    "else:            # x<0\n",
    "    if y > 0:\n",
    "        print(2) # x<0,y>0 - 2\n",
    "    else:\n",
    "        print(3) # x<0,y<0 - 3"
   ]
  },
  {
   "cell_type": "code",
   "execution_count": 8,
   "metadata": {},
   "outputs": [
    {
     "name": "stdout",
     "output_type": "stream",
     "text": [
      "5\n",
      "Other\n"
     ]
    }
   ],
   "source": [
    "# Пример2:\n",
    "# вывести строковые названия для вводимых чисел 1,2и3 и \"Other\" для всех остальных чисел\n",
    "\n",
    "# запись вложеных условий с использованием полной конструкции if else\n",
    "x = int(input())\n",
    "if x == 1:\n",
    "    print(\"One\")\n",
    "else:                 # x<>1\n",
    "    if x == 2:\n",
    "        print(\"Two\")\n",
    "    else:                # x<>1 & x<>2\n",
    "        if x == 3:\n",
    "            print(\"Three\")\n",
    "        else:               # x<>1 & x<>2 & x<>3\n",
    "            print(\"Other\")\n",
    "    "
   ]
  },
  {
   "cell_type": "code",
   "execution_count": 12,
   "metadata": {},
   "outputs": [
    {
     "name": "stdout",
     "output_type": "stream",
     "text": [
      "4\n",
      "Other\n"
     ]
    }
   ],
   "source": [
    "# Пример2:\n",
    "# вывести строковые названия для вводимых чисел 1,2и3 и \"Other\" для всех остальных чисел\n",
    "\n",
    "# запись вложеных условий с использованием конструкции elif\n",
    "# все следующие elif относятся к первому родительскому if и не нуждаются в табуляции\n",
    "\n",
    "x = int(input())\n",
    "if x == 1:\n",
    "    print(\"One\")\n",
    "elif x == 2:        # иначе-если одним оператором elif \n",
    "    print(\"Two\")\n",
    "elif x == 3:        # иначе-если одним оператором elif\n",
    "    print(\"Three\")\n",
    "else:               # иначе, если ни одно условие не выполнелось, x<>1 & x<>2 & x<>3\n",
    "    print(\"Other\")\n",
    "    "
   ]
  },
  {
   "cell_type": "code",
   "execution_count": null,
   "metadata": {},
   "outputs": [],
   "source": []
  }
 ],
 "metadata": {
  "kernelspec": {
   "display_name": "Python 3",
   "language": "python",
   "name": "python3"
  },
  "language_info": {
   "codemirror_mode": {
    "name": "ipython",
    "version": 3
   },
   "file_extension": ".py",
   "mimetype": "text/x-python",
   "name": "python",
   "nbconvert_exporter": "python",
   "pygments_lexer": "ipython3",
   "version": "3.6.0"
  }
 },
 "nbformat": 4,
 "nbformat_minor": 2
}
