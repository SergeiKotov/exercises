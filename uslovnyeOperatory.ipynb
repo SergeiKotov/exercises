{
 "cells": [
  {
   "cell_type": "code",
   "execution_count": 3,
   "metadata": {},
   "outputs": [
    {
     "name": "stdout",
     "output_type": "stream",
     "text": [
      "0\n",
      "0\n"
     ]
    }
   ],
   "source": [
    "# Получение модуля числа\n",
    "x = int(input())\n",
    "if x < 0:\n",
    "    x = -x\n",
    "print(x)"
   ]
  },
  {
   "cell_type": "code",
   "execution_count": 7,
   "metadata": {},
   "outputs": [
    {
     "name": "stdout",
     "output_type": "stream",
     "text": [
      "5\n",
      "5\n"
     ]
    }
   ],
   "source": [
    "# Получение модуля числа\n",
    "# Вариант 2 , с дополнительной проверкой\n",
    "# Пример показывает, что логический выражения могут вычисляться не полностью, а до того момента, как станет понятен результат. Например, если первая часть конструкции с and истинна - вторая часть не вычисляется.\n",
    "# Чачтичное вычисление логических выражений можно использовать для предварительной проверки(например на \"0\")\n",
    "x = int(input())\n",
    "if x < 0 and x // 0 == 0: # вторая часть условия, если дело дойдет до ее вычисления(x<0), вызовет ошибку\n",
    "    x = -x\n",
    "print(x)"
   ]
  },
  {
   "cell_type": "code",
   "execution_count": null,
   "metadata": {},
   "outputs": [],
   "source": [
    "# Получение модуля числа\n",
    "# Вариант 3\n",
    "# Конструкция условия с \"иначе\" - else:\n",
    "x = int(input())\n",
    "if x >= 0:\n",
    "    print(x)  # отступ 4 пробела для всего кода, который будет выполняться при выполнении условия\n",
    "else:         # else: на одном уровне с родительским if\n",
    "    print(-x)"
   ]
  }
 ],
 "metadata": {
  "kernelspec": {
   "display_name": "Python 3",
   "language": "python",
   "name": "python3"
  },
  "language_info": {
   "codemirror_mode": {
    "name": "ipython",
    "version": 3
   },
   "file_extension": ".py",
   "mimetype": "text/x-python",
   "name": "python",
   "nbconvert_exporter": "python",
   "pygments_lexer": "ipython3",
   "version": "3.6.0"
  }
 },
 "nbformat": 4,
 "nbformat_minor": 2
}
