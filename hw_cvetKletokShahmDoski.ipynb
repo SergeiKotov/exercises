{
 "cells": [
  {
   "cell_type": "markdown",
   "metadata": {},
   "source": [
    "Тренировочное задание по программированию: Цвет клеток шахматной доски\n",
    "Заданы две клетки шахматной доски. Если они покрашены в один цвет, то выведите слово YES, а если в разные цвета – то NO.\n",
    "Формат ввода\n",
    "Вводятся 4 числа - координаты клеток.\n",
    "Формат вывода\n",
    "Выведите ответ на задачу.\n",
    "Примеры:\n",
    "Тест 1\n",
    "Входные данные:\n",
    "1\n",
    "1\n",
    "2\n",
    "2\n",
    "Вывод программы:\n",
    "YES\n",
    "\n",
    "Тест 2\n",
    "Входные данные:\n",
    "1\n",
    "1\n",
    "2\n",
    "3\n",
    "Вывод программы:\n",
    "NO"
   ]
  },
  {
   "cell_type": "markdown",
   "metadata": {},
   "source": [
    "Решение:\n",
    "Клетки одного цвета могут быть следующих случаях:\n",
    "1. если х1=х2 то разница у1-у2 должна быть четной - (следующий такой же цвет через одну клетку)\n",
    "2. если у1=у2 то разница х1-х2 должна быть четной\n",
    "3. если разница х1-х2 четная то и разница у1-у2 тоже должна быть четной (по модулю) (х1!=х2)\n",
    "4. если разница х1-х2 не четная то и разница у1-у2 тоже должна быть не четной (по модулю) (у1!=у2)"
   ]
  },
  {
   "cell_type": "code",
   "execution_count": 16,
   "metadata": {},
   "outputs": [
    {
     "name": "stdout",
     "output_type": "stream",
     "text": [
      "9\n",
      "7\n",
      "4\n",
      "4\n",
      "YES4\n"
     ]
    }
   ],
   "source": [
    "x1 = int(input())\n",
    "y1 = int(input())\n",
    "x2 = int(input())\n",
    "y2 = int(input())\n",
    "if x1 == x2 and (y1 - y2) % 2 == 0:\n",
    "    print(\"YES\") # yes1\n",
    "elif y1 == y2 and (x1 - x2) % 2 == 0:\n",
    "    print(\"YES\") # yes2\n",
    "elif (x2 - x1) % 2 == 0 and (y2 - y1) % 2 == 0:\n",
    "    print(\"YES\") # yes3\n",
    "elif (x2 - x1) % 2 == 1 and (y2 - y1) % 2 == 1:\n",
    "    print(\"YES\") # yes4\n",
    "else:\n",
    "    print(\"NO\")\n"
   ]
  },
  {
   "cell_type": "code",
   "execution_count": 21,
   "metadata": {},
   "outputs": [
    {
     "name": "stdout",
     "output_type": "stream",
     "text": [
      "1\n"
     ]
    }
   ],
   "source": [
    "print((2 - 7) % 2)"
   ]
  },
  {
   "cell_type": "code",
   "execution_count": 1,
   "metadata": {},
   "outputs": [
    {
     "name": "stdout",
     "output_type": "stream",
     "text": [
      "False\n"
     ]
    }
   ],
   "source": [
    "print(1 != 1.0)\n"
   ]
  }
 ],
 "metadata": {
  "kernelspec": {
   "display_name": "Python 3",
   "language": "python",
   "name": "python3"
  },
  "language_info": {
   "codemirror_mode": {
    "name": "ipython",
    "version": 3
   },
   "file_extension": ".py",
   "mimetype": "text/x-python",
   "name": "python",
   "nbconvert_exporter": "python",
   "pygments_lexer": "ipython3",
   "version": "3.6.0"
  }
 },
 "nbformat": 4,
 "nbformat_minor": 2
}
