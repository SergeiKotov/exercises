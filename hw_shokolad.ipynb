{
 "cells": [
  {
   "cell_type": "markdown",
   "metadata": {},
   "source": [
    "Тренировочное задание по программированию: Шоколадка\n",
    "Шоколадка имеет вид прямоугольника, разделенного на n×m долек. Шоколадку можно один раз разломить по прямой на две части. Определите, можно ли таким образом отломить от шоколадки часть, состоящую ровно из k долек.\n",
    "Формат ввода\n",
    "Программа получает на вход три числа: n, m, k.\n",
    "Формат вывода\n",
    "Программа должна вывести одно из двух слов: YES или NO.\n",
    "Примеры:\n",
    "Тест 1\n",
    "Входные данные:\n",
    "4\n",
    "2\n",
    "6\n",
    "Вывод программы:\n",
    "YES\n",
    "\n",
    "Тест 2\n",
    "Входные данные:\n",
    "2\n",
    "10\n",
    "7\n",
    "Вывод программы:\n",
    "NO"
   ]
  },
  {
   "cell_type": "markdown",
   "metadata": {},
   "source": [
    "Решение: Отломленный кусок обязательно будет иметь количество плиток кратное одной из сторон и меньше чем плиток в шоколадке."
   ]
  },
  {
   "cell_type": "code",
   "execution_count": 13,
   "metadata": {},
   "outputs": [
    {
     "name": "stdout",
     "output_type": "stream",
     "text": [
      "2\n",
      "4\n",
      "20\n",
      "NO\n"
     ]
    }
   ],
   "source": [
    "n = int(input())\n",
    "m = int(input())\n",
    "k = int(input())\n",
    "if k % n == 0 and k < n * m or k % m == 0 and k < n * m:\n",
    "    print(\"YES\")\n",
    "else:\n",
    "    print(\"NO\")\n"
   ]
  },
  {
   "cell_type": "code",
   "execution_count": null,
   "metadata": {},
   "outputs": [],
   "source": []
  }
 ],
 "metadata": {
  "kernelspec": {
   "display_name": "Python 3",
   "language": "python",
   "name": "python3"
  },
  "language_info": {
   "codemirror_mode": {
    "name": "ipython",
    "version": 3
   },
   "file_extension": ".py",
   "mimetype": "text/x-python",
   "name": "python",
   "nbconvert_exporter": "python",
   "pygments_lexer": "ipython3",
   "version": "3.8.3"
  }
 },
 "nbformat": 4,
 "nbformat_minor": 2
}
