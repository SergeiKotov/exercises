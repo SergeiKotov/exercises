{
 "cells": [
  {
   "cell_type": "markdown",
   "metadata": {},
   "source": [
    "Задание по программированию: Високосный год\n",
    "Дано натуральное число. Требуется определить, является ли год с данным номером високосным. Если год является високосным, то выведите YES, иначе выведите NO. Напомним, что в соответствии с григорианским календарем, год является високосным, если его номер кратен 4, но не кратен 100, или же если он кратен 400.\n",
    "\n",
    "Формат ввода\n",
    "Вводится одно натуральное число.\n",
    "Формат вывода\n",
    "Выведите ответ на задачу.\n",
    "\n",
    "Примеры\n",
    "Тест 1\n",
    "Входные данные:\n",
    "4\n",
    "\n",
    "Вывод программы:\n",
    "YES"
   ]
  },
  {
   "cell_type": "code",
   "execution_count": 7,
   "metadata": {},
   "outputs": [
    {
     "name": "stdout",
     "output_type": "stream",
     "text": [
      "400\n",
      "YES\n"
     ]
    }
   ],
   "source": [
    "year = int(input())\n",
    "if year % 4 == 0 and year % 100 != 0 or year % 400 == 0:\n",
    "    answer = \"YES\"\n",
    "else:\n",
    "    answer = \"NO\"\n",
    "print(answer)\n"
   ]
  },
  {
   "cell_type": "code",
   "execution_count": null,
   "metadata": {},
   "outputs": [],
   "source": []
  }
 ],
 "metadata": {
  "kernelspec": {
   "display_name": "Python 3",
   "language": "python",
   "name": "python3"
  },
  "language_info": {
   "codemirror_mode": {
    "name": "ipython",
    "version": 3
   },
   "file_extension": ".py",
   "mimetype": "text/x-python",
   "name": "python",
   "nbconvert_exporter": "python",
   "pygments_lexer": "ipython3",
   "version": "3.6.0"
  }
 },
 "nbformat": 4,
 "nbformat_minor": 2
}
