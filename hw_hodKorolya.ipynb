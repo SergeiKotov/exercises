{
 "cells": [
  {
   "cell_type": "markdown",
   "metadata": {},
   "source": [
    "Тренировочное задание по программированию: Ход короля\n",
    "https://treningchess.com/wp-content/uploads/2014/03/1_%D0%BA%D0%BE%D1%80%D0%BE%D0%BB%D1%8C.jpg\n",
    "Шахматный король ходит по горизонтали, вертикали и диагонали, но только на 1 клетку. Даны две различные клетки шахматной доски, определите, может ли король попасть с первой клетки на вторую одним ходом.\n",
    "\n",
    "Формат ввода\n",
    "Программа получает на вход четыре числа от 1 до 8 каждое, задающие номер столбца и номер строки сначала для первой клетки, потом для второй клетки.\n",
    "Формат вывода\n",
    "Программа должна вывести YES, если из первой клетки ходом короля можно попасть во вторую или NO в противном случае.\n",
    "Примеры\n",
    "Тест 1\n",
    "Входные данные:\n",
    "4\n",
    "4\n",
    "5\n",
    "5\n",
    "\n",
    "Вывод программы:\n",
    "YES"
   ]
  },
  {
   "cell_type": "code",
   "execution_count": 7,
   "metadata": {},
   "outputs": [
    {
     "name": "stdout",
     "output_type": "stream",
     "text": [
      "4\n",
      "4\n",
      "5\n",
      "6\n",
      "NO\n"
     ]
    }
   ],
   "source": [
    "x1 = int(input())\n",
    "y1 = int(input())\n",
    "x2 = int(input())\n",
    "y2 = int(input())\n",
    "if -1 <= x2 - x1 <= 1 and -1 <= y2 - y1 <= 1:\n",
    "    print(\"YES\")\n",
    "else:\n",
    "    print(\"NO\")\n"
   ]
  },
  {
   "cell_type": "code",
   "execution_count": null,
   "metadata": {},
   "outputs": [],
   "source": []
  }
 ],
 "metadata": {
  "kernelspec": {
   "display_name": "Python 3",
   "language": "python",
   "name": "python3"
  },
  "language_info": {
   "codemirror_mode": {
    "name": "ipython",
    "version": 3
   },
   "file_extension": ".py",
   "mimetype": "text/x-python",
   "name": "python",
   "nbconvert_exporter": "python",
   "pygments_lexer": "ipython3",
   "version": "3.6.0"
  }
 },
 "nbformat": 4,
 "nbformat_minor": 2
}
