{
 "cells": [
  {
   "cell_type": "markdown",
   "metadata": {},
   "source": [
    "Задание по программированию: Максимум трех чисел\n",
    "Даны три целых числа. Найдите наибольшее из них (программа должна вывести ровно одно целое число).\n",
    "\n",
    "Какое наименьшее число операторов сравнения (>, <, >=, <=) необходимо для решения этой задачи?\n",
    "\n",
    "Формат ввода\n",
    "Вводится три целых числа.\n",
    "Формат вывода\n",
    "Выведите ответ на задачу.\n",
    "\n",
    "Примеры\n",
    "Тест 1\n",
    "Входные данные:\n",
    "1\n",
    "2\n",
    "3\n",
    "\n",
    "Вывод программы:\n",
    "3"
   ]
  },
  {
   "cell_type": "code",
   "execution_count": 6,
   "metadata": {},
   "outputs": [
    {
     "name": "stdout",
     "output_type": "stream",
     "text": [
      "2\n",
      "3\n",
      "1\n",
      "3\n"
     ]
    }
   ],
   "source": [
    "a = int(input())\n",
    "b = int(input())\n",
    "c = int(input())\n",
    "if a > b and a > c:\n",
    "    print(a)\n",
    "elif b > c:\n",
    "    print(b)\n",
    "else:\n",
    "    print(c)\n"
   ]
  },
  {
   "cell_type": "code",
   "execution_count": null,
   "metadata": {},
   "outputs": [],
   "source": []
  }
 ],
 "metadata": {
  "kernelspec": {
   "display_name": "Python 3",
   "language": "python",
   "name": "python3"
  },
  "language_info": {
   "codemirror_mode": {
    "name": "ipython",
    "version": 3
   },
   "file_extension": ".py",
   "mimetype": "text/x-python",
   "name": "python",
   "nbconvert_exporter": "python",
   "pygments_lexer": "ipython3",
   "version": "3.6.0"
  }
 },
 "nbformat": 4,
 "nbformat_minor": 2
}
