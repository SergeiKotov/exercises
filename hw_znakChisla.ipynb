{
 "cells": [
  {
   "cell_type": "markdown",
   "metadata": {},
   "source": [
    "Тренировочное задание по программированию: Знак числа\n",
    "    В математике функция sign(x) (знак числа) определена так:\n",
    "sign(x)=1, если x>0,\n",
    "sign(x)=-1, если x<0,\n",
    "sign(x)=0, если x=0.\n",
    "Для данного числа x выведите значение sign(x).\n",
    "\n",
    "Формат ввода\n",
    "Вводится одно целое число.\n",
    "Формат вывода\n",
    "Выведите ответ на задачу.\n",
    "Примечания\n",
    "Эту задачу желательно решить с использованием каскадных инструкций if... elif... else.\n",
    "Примеры:\n",
    "Тест 1\n",
    "Входные данные:\n",
    "3\n",
    "Вывод программы:\n",
    "1"
   ]
  },
  {
   "cell_type": "code",
   "execution_count": 4,
   "metadata": {},
   "outputs": [
    {
     "name": "stdout",
     "output_type": "stream",
     "text": [
      "0\n",
      "0\n"
     ]
    }
   ],
   "source": [
    "x = int(input())\n",
    "if x == 0:\n",
    "    sign = 0\n",
    "elif x > 0:\n",
    "    sign = 1\n",
    "else:\n",
    "    sign = -1\n",
    "print(sign)\n"
   ]
  },
  {
   "cell_type": "code",
   "execution_count": null,
   "metadata": {},
   "outputs": [],
   "source": []
  }
 ],
 "metadata": {
  "kernelspec": {
   "display_name": "Python 3",
   "language": "python",
   "name": "python3"
  },
  "language_info": {
   "codemirror_mode": {
    "name": "ipython",
    "version": 3
   },
   "file_extension": ".py",
   "mimetype": "text/x-python",
   "name": "python",
   "nbconvert_exporter": "python",
   "pygments_lexer": "ipython3",
   "version": "3.6.0"
  }
 },
 "nbformat": 4,
 "nbformat_minor": 2
}
