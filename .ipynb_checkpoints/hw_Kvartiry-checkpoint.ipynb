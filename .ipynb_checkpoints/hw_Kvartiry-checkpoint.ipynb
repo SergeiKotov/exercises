{
 "cells": [
  {
   "cell_type": "code",
   "execution_count": null,
   "metadata": {},
   "outputs": [],
   "source": [
    "# Тренировочное задание по программированию: Квартиры\n",
    "# В доме несколько подъездов. В каждом подъезде одинаковое количество квартир. Квартиры нумеруются подряд, начиная с единицы. Может ли в некотором подъезде первая квартира иметь номер x, а последняя – номер y?\n",
    "\n",
    "# Формат ввода\n",
    "# Вводятся два натуральных числа x и y (x ≤ y).\n",
    "# Формат вывода\n",
    "# Выведите слово YES (заглавными латинскими буквами), если такое возможно, и NO в противном случае.\n",
    "\n",
    "# Примеры\n",
    "# Тест 1\n",
    "# Входные данные:\n",
    "# 11\n",
    "# 15\n",
    "# Вывод программы:\n",
    "# YES\n",
    "\n",
    "# Тест 2\n",
    "# Входные данные:\n",
    "# 2 \n",
    "# 10\n",
    "# Вывод программы:\n",
    "# NO"
   ]
  },
  {
   "cell_type": "code",
   "execution_count": null,
   "metadata": {},
   "outputs": [],
   "source": [
    "# Решение:\n",
    "# Считаем, что в каждом подъезде одна или более квартир или (y - x + 1) квартир (15 - 11 + 1) = 5 квартир\n",
    "# Следовательно x должен удовлетворять следующему условию:\n",
    "#     - кратен количеству квартир в подъезде и +1, потому, что это уже начало нумерации нового подъезда!\n",
    "#     Иначе говоря, остаток от деления х на число квартир в подъезде всегда должен быть равен 1 !\n",
    "# Если это услови соблюдается значит х и у могут быть первым и последним номером квартир в подъезде - ответ YES"
   ]
  },
  {
   "cell_type": "code",
   "execution_count": 18,
   "metadata": {},
   "outputs": [
    {
     "name": "stdout",
     "output_type": "stream",
     "text": [
      "11\n",
      "20\n",
      "YES\n"
     ]
    }
   ],
   "source": [
    "x = int(input())\n",
    "y = int(input())\n",
    "numApts = y - x + 1\n",
    "if x % numApts == 1:\n",
    "    print(\"YES\")\n",
    "else:\n",
    "    print(\"NO\")\n",
    "# это вариант решения не сдается, хотя все тесты проходят"
   ]
  },
  {
   "cell_type": "code",
   "execution_count": null,
   "metadata": {},
   "outputs": [],
   "source": [
    "# Альтернативное решение - проверяем у!\n",
    "# Очевидно, что у должен быть кратен кол-ву квартир в подъезде (проще, чем Х!)\n",
    "# т.е. остаток от деления у на кол-во квартир в подъезде = 0"
   ]
  },
  {
   "cell_type": "code",
   "execution_count": 22,
   "metadata": {},
   "outputs": [
    {
     "name": "stdout",
     "output_type": "stream",
     "text": [
      "11\n",
      "20\n",
      "YES\n"
     ]
    }
   ],
   "source": [
    "x = int(input())\n",
    "y = int(input())\n",
    "if y % (y - x + 1) == 0:\n",
    "    print(\"YES\")\n",
    "else:\n",
    "    print(\"NO\")"
   ]
  },
  {
   "cell_type": "code",
   "execution_count": null,
   "metadata": {},
   "outputs": [],
   "source": []
  }
 ],
 "metadata": {
  "kernelspec": {
   "display_name": "Python 3",
   "language": "python",
   "name": "python3"
  },
  "language_info": {
   "codemirror_mode": {
    "name": "ipython",
    "version": 3
   },
   "file_extension": ".py",
   "mimetype": "text/x-python",
   "name": "python",
   "nbconvert_exporter": "python",
   "pygments_lexer": "ipython3",
   "version": "3.6.0"
  }
 },
 "nbformat": 4,
 "nbformat_minor": 2
}
