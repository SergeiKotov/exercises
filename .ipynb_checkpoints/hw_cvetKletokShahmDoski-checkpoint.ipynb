{
 "cells": [
  {
   "cell_type": "markdown",
   "metadata": {},
   "source": [
    "Тренировочное задание по программированию: Цвет клеток шахматной доски\n",
    "Заданы две клетки шахматной доски. Если они покрашены в один цвет, то выведите слово YES, а если в разные цвета – то NO.\n",
    "Формат ввода\n",
    "Вводятся 4 числа - координаты клеток.\n",
    "Формат вывода\n",
    "Выведите ответ на задачу.\n",
    "Примеры:\n",
    "Тест 1\n",
    "Входные данные:\n",
    "1\n",
    "1\n",
    "2\n",
    "2\n",
    "Вывод программы:\n",
    "YES\n",
    "\n",
    "Тест 2\n",
    "Входные данные:\n",
    "1\n",
    "1\n",
    "2\n",
    "3\n",
    "Вывод программы:\n",
    "NO"
   ]
  },
  {
   "cell_type": "markdown",
   "metadata": {},
   "source": [
    "Решение:\n",
    "Клетки одного цвета могут быть либо в по диагонали подряд либо по вертикали или горизонтали но через одну!\n",
    "1. В первом случае разница по х1-х2(по модулю) и у1-у2(по модулю) должна быть равна!\n",
    "2. Во втором случае: если х1=х2 то разница по у должна быть четной\n",
    "или если у1=у2 то разница по х должна быть четной.\n",
    "Тоесть, если х1=х2 или у1=у2 то идем по варианту 1.\n",
    "        иначе идем по варианту 2."
   ]
  },
  {
   "cell_type": "code",
   "execution_count": 8,
   "metadata": {},
   "outputs": [
    {
     "name": "stdout",
     "output_type": "stream",
     "text": [
      "1\n",
      "1\n",
      "2\n",
      "3\n",
      "NO\n"
     ]
    }
   ],
   "source": [
    "x1 = int(input())\n",
    "y1 = int(input())\n",
    "x2 = int(input())\n",
    "y2 = int(input())\n",
    "if x1 == x2:\n",
    "    if (y1 - y2) % 2 == 0:\n",
    "        print(\"YES\")\n",
    "elif y1 == y2:\n",
    "    if (x1 - x2) % 2 == 0:\n",
    "        print(\"YES\")\n",
    "elif (x2 - x1) % (y2 - y1) == 0:\n",
    "    print(\"YES\")\n",
    "else:\n",
    "    print(\"NO\")\n"
   ]
  },
  {
   "cell_type": "code",
   "execution_count": 12,
   "metadata": {},
   "outputs": [
    {
     "name": "stdout",
     "output_type": "stream",
     "text": [
      "0\n"
     ]
    }
   ],
   "source": [
    "print((1-3)%(1-3))"
   ]
  },
  {
   "cell_type": "code",
   "execution_count": null,
   "metadata": {},
   "outputs": [],
   "source": []
  }
 ],
 "metadata": {
  "kernelspec": {
   "display_name": "Python 3",
   "language": "python",
   "name": "python3"
  },
  "language_info": {
   "codemirror_mode": {
    "name": "ipython",
    "version": 3
   },
   "file_extension": ".py",
   "mimetype": "text/x-python",
   "name": "python",
   "nbconvert_exporter": "python",
   "pygments_lexer": "ipython3",
   "version": "3.6.0"
  }
 },
 "nbformat": 4,
 "nbformat_minor": 2
}
