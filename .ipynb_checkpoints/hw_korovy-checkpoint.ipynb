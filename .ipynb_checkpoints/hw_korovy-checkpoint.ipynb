{
 "cells": [
  {
   "cell_type": "markdown",
   "metadata": {},
   "source": [
    "Задание по программированию: Коровы\n",
    "Для данного числа n<100 закончите фразу “На лугу пасется...” одним из возможных продолжений: “n коров”, “n корова”, “n коровы”, правильно склоняя слово “корова”.\n",
    "Формат ввода\n",
    "Вводится натуральное число.\n",
    "Формат вывода\n",
    "Программа должна вывести введенное число n и одно из слов: korov, korova или korovy. Между числом и словом должен стоять ровно один пробел.\n",
    "Тест 1\n",
    "Входные данные:\n",
    "1\n",
    "Вывод программы:\n",
    "1 korova\n",
    "\n",
    "Тест 2\n",
    "Входные данные:\n",
    "2\n",
    "Вывод программы:\n",
    "2 korovy\n",
    "\n",
    "Тест 3\n",
    "Входные данные:\n",
    "3\n",
    "Вывод программы:\n",
    "3 korovy"
   ]
  },
  {
   "cell_type": "markdown",
   "metadata": {},
   "source": [
    "Решение:\n",
    "Перепишем все варианты и обозначим окончание(\"\", \"a\", \"y\") к слову \"korov\" для каждого.\n",
    "1. одна - корова - \"а\"\n",
    "2. две, три, четыре - коровы - \"y\"\n",
    "3. 0 6 7 8 9 10 11 12 13 14 15 16 17 18 19 20 30.....90 ...99 - коров - \"\"\n",
    "Пропишем условия для варианта 1 и 2\n",
    "Все остальное, в каждом десятке но, только после 20и это вариант 3.\n",
    "Поэтому, если число больше 20и, то берем от него остаток отделения на 10 (само число запоминаем) получаем единицы и универсальные условия для единиц любого десятка!  "
   ]
  },
  {
   "cell_type": "code",
   "execution_count": 1,
   "metadata": {},
   "outputs": [
    {
     "name": "stdout",
     "output_type": "stream",
     "text": [
      "33\n",
      "33 korovy\n"
     ]
    }
   ],
   "source": [
    "n = int(input())\n",
    "m = n\n",
    "if n > 20:\n",
    "    n = n % 10\n",
    "if n == 1:\n",
    "    end = \"a\"\n",
    "elif 2 <= n <= 4:\n",
    "    end = \"y\"\n",
    "else:\n",
    "    end = \"\"\n",
    "print(m, \"korov\" + end)\n"
   ]
  },
  {
   "cell_type": "code",
   "execution_count": null,
   "metadata": {},
   "outputs": [],
   "source": []
  },
  {
   "cell_type": "code",
   "execution_count": null,
   "metadata": {},
   "outputs": [],
   "source": []
  }
 ],
 "metadata": {
  "kernelspec": {
   "display_name": "Python 3",
   "language": "python",
   "name": "python3"
  },
  "language_info": {
   "codemirror_mode": {
    "name": "ipython",
    "version": 3
   },
   "file_extension": ".py",
   "mimetype": "text/x-python",
   "name": "python",
   "nbconvert_exporter": "python",
   "pygments_lexer": "ipython3",
   "version": "3.6.0"
  }
 },
 "nbformat": 4,
 "nbformat_minor": 2
}
