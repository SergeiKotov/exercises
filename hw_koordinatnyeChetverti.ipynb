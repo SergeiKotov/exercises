{
 "cells": [
  {
   "cell_type": "code",
   "execution_count": null,
   "metadata": {},
   "outputs": [],
   "source": [
    "Тренировочное задание по программированию: Координатные четверти\n",
    "    Даны координаты двух точек на плоскости, требуется определить, лежат ли они в одной координатной четверти или нет (все координаты отличны от нуля).\n",
    "Формат ввода\n",
    "Вводятся 4 числа: координаты первой точки (x1,y1) и координаты второй точки (x2,y2).\n",
    "Формат вывода\n",
    "Программа должна вывести слово YES, если точки находятся в одной координатной четверти, в противном случае вывести слово NO.\n",
    "Примеры\n",
    "Тест 1\n",
    "Входные данные:\n",
    "3\n",
    "3\n",
    "5\n",
    "1\n",
    "Вывод программы:\n",
    "YES"
   ]
  },
  {
   "cell_type": "code",
   "execution_count": 2,
   "metadata": {},
   "outputs": [
    {
     "name": "stdout",
     "output_type": "stream",
     "text": [
      "-3\n",
      "3\n",
      "5\n",
      "1\n",
      "NO\n"
     ]
    }
   ],
   "source": [
    "x1 = int(input())\n",
    "y1 = int(input())\n",
    "x2 = int(input())\n",
    "y2 = int(input())\n",
    "if x1 > 0 and y1 > 0 and x2 > 0 and y2 > 0:\n",
    "    print(\"YES\") # yes1\n",
    "elif x1 < 0 and y1 > 0 and x2 < 0 and y2 > 0:\n",
    "    print(\"YES\") # yes2\n",
    "elif x1 < 0 and y1 < 0 and x2 < 0 and y2 < 0:\n",
    "    print(\"YES\") # yes3\n",
    "elif x1 > 0 and y1 < 0 and x2 > 0 and y2 < 0:\n",
    "    print(\"YES\") # yes4\n",
    "else:\n",
    "    print(\"NO\")\n"
   ]
  },
  {
   "cell_type": "code",
   "execution_count": null,
   "metadata": {},
   "outputs": [],
   "source": []
  },
  {
   "cell_type": "code",
   "execution_count": null,
   "metadata": {},
   "outputs": [],
   "source": []
  }
 ],
 "metadata": {
  "kernelspec": {
   "display_name": "Python 3",
   "language": "python",
   "name": "python3"
  },
  "language_info": {
   "codemirror_mode": {
    "name": "ipython",
    "version": 3
   },
   "file_extension": ".py",
   "mimetype": "text/x-python",
   "name": "python",
   "nbconvert_exporter": "python",
   "pygments_lexer": "ipython3",
   "version": "3.6.0"
  }
 },
 "nbformat": 4,
 "nbformat_minor": 2
}
