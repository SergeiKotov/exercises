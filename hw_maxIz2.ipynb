{
 "cells": [
  {
   "cell_type": "code",
   "execution_count": null,
   "metadata": {},
   "outputs": [],
   "source": [
    "### Задание по программированию: Максимум из двух\n",
    "# Напишите программу, которая считывает два целых числа A и B и выводит наибольшее значение из них. Числа — целые от 1 до 1000.\n",
    "# Формат ввода\n",
    "# Вводятся два числа.\n",
    "# Формат вывода\n",
    "# Выведите ответ на задачу.\n",
    "# Примеры\n",
    "# Тест 1\n",
    "# Входные данные:\n",
    "# 8\n",
    "# 5\n",
    "# Вывод программы:\n",
    "# 8\n",
    "\n",
    "# Тест 2\n",
    "# Входные данные:\n",
    "# 5\n",
    "# 8\n",
    "# Вывод программы:\n",
    "# 8\n",
    "\n",
    "# Тест 3\n",
    "# Входные данные:\n",
    "# 5\n",
    "# 5\n",
    "# Вывод программы:\n",
    "# 5"
   ]
  },
  {
   "cell_type": "code",
   "execution_count": 3,
   "metadata": {},
   "outputs": [
    {
     "name": "stdout",
     "output_type": "stream",
     "text": [
      "5\n",
      "5\n",
      "5\n"
     ]
    }
   ],
   "source": [
    "a = int(input())\n",
    "b = int(input())\n",
    "if a > b:\n",
    "    print(a)\n",
    "else:\n",
    "    print(b)\n"
   ]
  },
  {
   "cell_type": "code",
   "execution_count": null,
   "metadata": {},
   "outputs": [],
   "source": []
  }
 ],
 "metadata": {
  "kernelspec": {
   "display_name": "Python 3",
   "language": "python",
   "name": "python3"
  },
  "language_info": {
   "codemirror_mode": {
    "name": "ipython",
    "version": 3
   },
   "file_extension": ".py",
   "mimetype": "text/x-python",
   "name": "python",
   "nbconvert_exporter": "python",
   "pygments_lexer": "ipython3",
   "version": "3.6.0"
  }
 },
 "nbformat": 4,
 "nbformat_minor": 2
}
